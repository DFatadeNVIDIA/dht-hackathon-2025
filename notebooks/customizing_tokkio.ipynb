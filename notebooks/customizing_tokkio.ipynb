{
 "cells": [
  {
   "cell_type": "markdown",
   "id": "97a40e32-2294-48e4-9c70-8f0e65710429",
   "metadata": {},
   "source": [
    "# NVIDIA ACE Configurator:\n",
    "\n",
    "The ACE Configurator enables runtime configuration of Kubernetes applications via a VS Code extension, allowing users to quickly reconfigure microservices for workflows that require frequent changes-like adjusting LLM prompts, website styles, or animation parameters. It manages two types of configurations: \n",
    "\n",
    "- Kubernetes ConfigMaps for text-based settings and environment variables\n",
    "- Persistent Volumes for binary assets such as audio or 3D scenes.\n",
    "\n",
    "![ace-configurator](../images/ace-configurator.png)\n",
    "\n",
    "This dual approach supports a wide range of configuration needs, from simple key-value pairs to large binary files. The ACE Configurator based developer workflow is designed to enable seamless debugging and streamlined iterative development for Tokkio Digital Human Agents. For more details regarding the ACE Configurator, please refer to the [ACE Configurator](https://docs.nvidia.com/ace/ace-configurator/1.0/index.html#ace-configurator-overview)\n",
    "\n",
    "The workflow satisfies the following use cases:\n",
    "\n",
    "- Modify the agent pipeline during live deployment and instantly view the updated changes.\n",
    "- Changes remain persistent even after pod reboot.\n",
    "- No need to rebuild or redeploy the app for changes supported by the ACE Configurator.\n",
    "\n",
    "In this notebook, we'll cover the process of leveraging the ACE configurator to update the RAG service our avatar is using!"
   ]
  },
  {
   "cell_type": "markdown",
   "id": "e616639d-48d1-41c4-8baf-eea53cb01fe1",
   "metadata": {},
   "source": [
    "## Prerequisites \n",
    "\n",
    "A few prerequisites need to be met in order to leverage the ACE configurator:\n",
    "    \n",
    "- Tokkio application deployed in a Kubernetes cluster\n",
    "- VSCode IDE\n",
    "\n",
    "We've already deployed our Tokkio application in the `tokkio_app_deploy.ipynb` notebook. In this notebook, we'll cover how to spin up the ACE configurator in VSCode. Please make sure to download and install VSCode on your local machine (outside of the Tokkio app instance) - we'll be playing with the ACE Configurator extension\n",
    "\n",
    "In addition, we'll need the endpoint the RAG service that was deployed in the `deploy_tokkio_llm_rag.ipynb` notebook. This is typically hosoted on `http://<application-instance-ip>:8081` The endpoint will be used to update the config files that power the Tokkio service!"
   ]
  },
  {
   "cell_type": "markdown",
   "id": "119e35c7-bfb8-4ead-97b0-029532940dc8",
   "metadata": {},
   "source": [
    "### Verify Tokkio Application Is Deployed In A Kubernetes Cluster\n",
    "\n",
    "As part of the list of prerequisites, we deployed our Tokkio application without any customizations. Please verify the application is running in the kubernetes cluster that was prepared in the previous notebook"
   ]
  },
  {
   "cell_type": "code",
   "execution_count": 3,
   "id": "1ce41d1d-4f87-4d6e-91b9-e9dc1f5a832b",
   "metadata": {},
   "outputs": [
    {
     "name": "stdout",
     "output_type": "stream",
     "text": [
      "NAME                                                      READY   STATUS    RESTARTS   AGE\n",
      "a2f-a2f-deployment-7c48f84597-j5qs8                       1/1     Running   0          6h36m\n",
      "ace-configurator-deployment-8649bffb8f-fccbx              1/1     Running   0          76m\n",
      "ace-controller-ace-controller-deployment-0                1/1     Running   0          6h36m\n",
      "ace-controller-sdr-envoy-sdr-deployment-f58d99587-nk256   4/4     Running   0          6h36m\n",
      "anim-graph-sdr-envoy-sdr-deployment-86744bb9-mtzhw        4/4     Running   0          6h36m\n",
      "ia-animation-graph-microservice-deployment-0              1/1     Running   0          6h36m\n",
      "ia-unreal-renderer-microservice-deployment-0              3/3     Running   0          6h36m\n",
      "redis-redis-755b568f59-hthv5                              1/1     Running   0          6h36m\n",
      "redis-timeseries-redis-timeseries-5dc5ccd4cf-qm4cz        1/1     Running   0          6h36m\n",
      "riva-speech-57b77f9466-xmcxw                              1/1     Running   0          6h36m\n",
      "tokkio-ingress-mgr-deployment-86879666b4-j4xh6            2/2     Running   0          6h36m\n",
      "tokkio-ui-deployment-6985b5d74-4jmlt                      1/1     Running   0          6h36m\n",
      "triton0-97cbb4744-x9twp                                   1/1     Running   0          6h36m\n",
      "ue-renderer-sdr-envoy-sdr-deployment-5f77dffddb-vd4wd     4/4     Running   0          6h36m\n",
      "vms-vms-d54bd4698-f27q2                                   1/1     Running   0          6h36m\n"
     ]
    }
   ],
   "source": [
    "%%bash\n",
    "# get active pods running\n",
    "kubectl get pods -n app"
   ]
  },
  {
   "cell_type": "markdown",
   "id": "f20e99b0-2988-46cb-9bb4-2e8dd2060b28",
   "metadata": {},
   "source": [
    "Once we've verified all the pods are in a running state, we can set up the ACE configurator in VSCode!"
   ]
  },
  {
   "cell_type": "markdown",
   "id": "fffabbc0-0dc2-4767-b224-32767327e088",
   "metadata": {},
   "source": [
    "### Setting Up Ace Configurator In VSCode\n",
    "\n",
    "This section of the notebook will cover the steps required to install the ACE Configurator VS Code extension. It'll also cover how to use it to download, browse, edit, and upload configurations. The extension is typically used in conjunction with the ACE Configurator microservice, so we'll be leveraging the configurator service we deployed as part of the original Tokkio pipeline, this can typically be accessed on port `30180` at `http://<application-instance-ip>:30180`. Please make sure the service is reachable from your local machine\n",
    "\n",
    "In addition, the VS Code desktop application must be installed on your computer. The extension has been tested on version 1.98.The extension typically also works on self-hosted VS Code for web, such as coder/coder-server, although this workflow is not supported officially. We'll leverage the steps [highlighted here](https://docs.nvidia.com/ace/ace-configurator/1.0/user-guide/vscode-extension.html#ace-configurator-vscode-extension) to install and start the Ace Configurator VSCode extension!\n",
    "\n",
    "#### Install from VS Code Extension Marketplace\n",
    "The extension can be installed from the VS Code Extension Marketplace. Under the `Extension` tab, search for `ACE Configurator`. Once you find the extension simply click on the `Install` option!\n",
    "\n",
    "#### Start the Extension\n",
    "\n",
    "1. Click the `file` icon on the left sidebar to open the file explorer.\n",
    "2. Click the `ACE CONFIGURATOR` panel at the bottom left (see screenshot below).\n",
    "3. You should be prompted to open a VS Code workspace. A workspace is just a directory on your computer. Configurations will be saved to the workspace, so we recommend creating an empty directory and using it as your workspace. Create a new folder called `tokkio-ace-configurator-test` and save it.\n",
    "4. Open the `ACE CONFIGURATOR` panel again.\n",
    "5. You should be prompted to set the ACE Configurator URL. We'll provide the URL the ACE configurator service is deployed on at `http://<application-instance-ip>:30180`. This setting will be stored in the `.vscode/settings.json` file for future reference and debugging purposes.\n",
    "\n",
    "![vscode-extension-initial-screen](../images/vscode-extension-initial-screen.png)\n",
    "\n",
    "Once we've started the extension, we can move on to managing configurations!"
   ]
  },
  {
   "cell_type": "markdown",
   "id": "6f1a8ce5-df32-4d5b-9854-173820ae0a67",
   "metadata": {},
   "source": [
    "## Managing Configurations\n",
    "\n",
    "The extension displays all microservices configured for ACE Configurator, each with one or more editable configurations. Users can download, view, edit, and upload configurations. The typical workflow involves downloading a configuration to local storage, editing it, and uploading changes back to Kubernetes, repeating as needed for iterative refinement. \n",
    "\n",
    "Now that we've started the extension and connected to the configurator microservice, we should be able to see the microservices backing our deployment. The relevant service configs that need to be modified will be the `ace-controller-ace-controller-deployment` config. We can start by syncing and downloading all the resources and assets tied to this deployment - simply click the icon and press the download button:\n",
    "\n",
    "![ace_configurator_download_config](../images/ace_configurator_download_config.png)\n",
    "\n",
    "This will trigger a download of all the resources tied to our deployment. Once download has completed, we'll find a directory called `ace-controller-ace-controller-deployment` in the folder we opened. From here, we can proceed with updating our RAG service!"
   ]
  },
  {
   "cell_type": "markdown",
   "id": "c58037e2-7336-4a38-b12f-71dc3ecdc5a1",
   "metadata": {},
   "source": [
    "#### Updating Tokkio To Use Your RAG Service\n",
    "\n",
    "By default tokkio expects to work with NVIDIA RAG out of the box. The RAG pipeline deployed in the `deploy_nvidia_rag.ipynb`. If you're interested in deploying your own RAG service outside of this architecture, or are interested in additional customizations outside of updating RAG, please refer to the [Tokkio Customizations Guide.](https://docs.nvidia.com/ace/tokkio/5.0.0-beta/customization/customization.html)\n",
    "\n",
    "In the previous step, we downloaded the relevant service configs that need to be modified will be the `ace-controller-ace-controller-deployment` config. Under this directory, we can find a `config.yml` file under the directory `ace-controller-ace-controller-deployment/assets/app-storage-volume/configs/`. Below is a snippet of the config file that we need to modify. There are other portions, but this is the main portion that needs to be updated. Particularly, we need to update the following:\n",
    "\n",
    "- The `llm_processor` must be set to use `NvidiaRAGService`. This will use the RAG service we configured earlier, by default, this is set to `OpenAILLMService`\n",
    "- The welcome and farewell messages under the `UserPresenceProcesssor` field can also be updated to whatever text we want!\n",
    "- The `OpenAILLMContext` fields can be updated as well. This will influence the prompt template that is used to interact with users. This can be changed to fit whatever use case you're looking for.\n",
    "- Finally, the `NvidiaRAGService` service parameters need to be updated. Update the `rag_server_url` to point to the instance you have Tokkio & NVIDIA RAG deployed on, by default, the service should default to port 8081, but if you have changed this in your deployment, please make sure the changes are reflected here. Finally, the `collection_name` parameter.\n",
    "\n",
    "Here is the snippet of the relevant section that needs to be updated\n",
    "\n",
    "```\n",
    "Pipeline:\n",
    "    # Only one of the following LLM service configurations will be active based on this setting:\n",
    "    # - \"NvidiaLLMService\" - Uses the NvidiaLLMService configuration\n",
    "    # - \"NvidiaRAGService\" - Uses the NvidiaRAGService configuration\n",
    "    # - \"OpenAILLMService\" - Uses the OpenAILLMService configuration\n",
    "    llm_processor: \"NvidiaRAGService\" # OR NvidiaLLMService OR NvidiaRAGService OR OpenAILLMService\n",
    "    filler:\n",
    "        - \"Let me think\"\n",
    "        - \"Hmmm\"\n",
    "    time_delay: 2.0\n",
    "\n",
    "UserPresenceProcesssor:\n",
    "    welcome_message: \"Hello! How are you doing?\"\n",
    "    farewell_message: \"Bye! Talk to you later.\"\n",
    "\n",
    "ProactivityProcessor:\n",
    "    timer_duration: 100\n",
    "    default_message: \"I'm here if you need me!\"\n",
    "\n",
    "OpenAILLMContext:\n",
    "    name: \"Aki\"\n",
    "    prompt: \"You are {name}, a virtual marketing and communications expert at Nvidia.\n",
    "            You are a digital human brought to life with NVIDIA Digital Human Blueprint for Customer Service using\n",
    "            microservices like Audio2Face-3D for facial animation, Riva (spelled Reeva) Parakeet for speech recognition\n",
    "            and you use Elevenlabs for text to speech. It includes the open source ACE controller to orchestrate all\n",
    "            the modules and allowing you to be streamed to a web browser. With this blueprint, NVIDIA partners can now\n",
    "            build and customize Digital humans for their use case. You are not allowed to make any stock investment\n",
    "            recommendations or compare NVIDIA to its competitors. Beyond your professional expertise, you are a passionate\n",
    "            advocate for STEM education with keen interest in gaming and enhancement in tech. Your favorite graphics card\n",
    "            is RTX4090 but you're eyeing the new RTX5090. Do not respond with a bulleted or numbered list. You have a\n",
    "            bubbly personality. Respond with one sentence or less than 100 characters. Keep the conversation engaging\n",
    "            and ask follow ups. DO NOT INCLUDE SPECIAL CHARACTERS, MARKDOWN, EMOJIS, OR ANYTHING ELSE BESIDES TEXT IN\n",
    "            YOUR RESPONSE. Keep your answers factual and don't make up facts.\"\n",
    "\n",
    "# This configuration is only used when llm_processor is set to \"NvidiaRAGService\"\n",
    "NvidiaRAGService:\n",
    "    use_knowledge_base: true\n",
    "    max_tokens: 1000\n",
    "    rag_server_url: \"http://<application_instance_ip>:8081\"\n",
    "    collection_name: \"dht_tokkio_rag\"\n",
    "    suffix_prompt: \"Respond with one sentence or less than 75 characters.\"\n",
    "```"
   ]
  },
  {
   "cell_type": "markdown",
   "id": "aefd717a-e7c9-4c48-b739-47b123520ec6",
   "metadata": {},
   "source": [
    "## Applying Customization Changes\n",
    "\n",
    "Once you've saved your changes, you'll see a `modified locally` option:\n",
    "\n",
    "![ace_configurator_upload_config](../images/ace_configurator_upload_config.png)\n",
    "\n",
    "Once you're sure about your changes click on the upload button. Wait till the changes are reflected in the live deployment, this will be showcased with the `synced` flag:\n",
    "\n",
    "![ace_configurator_upload_successful](../images/ace_configurator_upload_successful.png)\n",
    "\n",
    "The changes will be reflected in the live deployment within a few seconds. The green indicator with Synced indicates that the changes have been successfully uploaded. Once the changes have been synced, reload the Tokkio UI and chat with the avatar!"
   ]
  }
 ],
 "metadata": {
  "kernelspec": {
   "display_name": "Python 3 (ipykernel)",
   "language": "python",
   "name": "python3"
  },
  "language_info": {
   "codemirror_mode": {
    "name": "ipython",
    "version": 3
   },
   "file_extension": ".py",
   "mimetype": "text/x-python",
   "name": "python",
   "nbconvert_exporter": "python",
   "pygments_lexer": "ipython3",
   "version": "3.10.12"
  }
 },
 "nbformat": 4,
 "nbformat_minor": 5
}
