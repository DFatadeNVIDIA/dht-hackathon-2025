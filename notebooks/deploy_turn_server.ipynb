{
 "cells": [
  {
   "cell_type": "markdown",
   "id": "b833be26-65f6-4709-a4b1-ed9e9f3f35a5",
   "metadata": {},
   "source": [
    "# Deploying a TURN Server Using CoTURN\n",
    "\n",
    "In order to interact with our Tokkio Avatar, we'll need to set up a [media relay service](https://docs.nvidia.com/ace/tokkio/5.0.0-beta/overview/components-and-microservices.html#media-relay-service). This component is responsible for relaying media between the client browser and the Tokkio backend. Especially when the client browser and the Tokkio backend cannot connect directly, they send data to an entity such as a TURN server, which then relays this data to the other device. \n",
    "\n",
    "This process ensures that communication can occur even if the direct connections are blocked for reasons such as when they are behind NAT or firewalls. The Tokkio deployment supports the options below as of today.\n",
    "\n",
    "- COTURN service\n",
    "- ReverseProxy service\n",
    "- Twilio\n",
    "\n",
    "In this notebook, we'll set up a [COTURN](https://github.com/coturn/coturn) service! COTURN is an open-source implementation of TURN and STUN server used for NAT traversal in WebRTC applications. It's expected that the COTURN server is set on a seperate CPU based (non-GPU enabled) virtual machine. Configuring a COTURN service or a TURN server in general on the same instance the Tokkio application is deployed on."
   ]
  },
  {
   "cell_type": "markdown",
   "id": "87fb3662-b9f3-466d-8b17-89b0ae1c1c23",
   "metadata": {},
   "source": [
    "## Import Dependencies"
   ]
  },
  {
   "cell_type": "code",
   "execution_count": 12,
   "id": "3b6b49a2-d6b3-4400-bf3f-7d4b08031ee9",
   "metadata": {},
   "outputs": [],
   "source": [
    "import os"
   ]
  },
  {
   "cell_type": "markdown",
   "id": "62f29574-f2d0-4ac8-8d68-f708d2e1aaf8",
   "metadata": {},
   "source": [
    "## Setting Up The TURN Server\n",
    "\n",
    "The TURN server setup consists of installing and configuring the COTURN service. COTURN is an open-source implementation of TURN and STUN server used for NAT traversal in WebRTC applications. The setup involves:\n",
    "\n",
    "1. Installing the COTURN package\n",
    "2. Configuring network settings and credentials\n",
    "3. Setting up the service to run automatically\n",
    "\n",
    "A TURN server is a requirement in order to ensure the Tokkio services are reachable. We can get started by running the setup script that has been provided by the team for setting up COTURN:"
   ]
  },
  {
   "cell_type": "code",
   "execution_count": 1,
   "id": "91781b94-95fd-4000-afed-3012454c5669",
   "metadata": {},
   "outputs": [],
   "source": [
    "%%bash\n",
    "# create directory to store scripts in\n",
    "mkdir -p ../scripts\n",
    "\n",
    "# store coturn script in newly created directory\n",
    "cat << 'EOF' > ../scripts/setup-coturn.sh\n",
    "#!/bin/bash\n",
    "if [ $1 == 'install' ]; then\n",
    "  echo \"Setup coturn server -- Start\"\n",
    "  DEBIAN_FRONTEND=noninteractive\n",
    "  apt-get update -y\n",
    "  apt-get install -y coturn\n",
    "\n",
    "  if [ -n \"$TURNSERVER_PUBLIC_IP\" ] && [ -n \"${TURNSERVER_PRIVATE_IP}\" ]; then\n",
    "    EXTERNAL_IP=\"${TURNSERVER_PUBLIC_IP}/${TURNSERVER_PRIVATE_IP}\"\n",
    "  elif [ -z \"$TURNSERVER_PUBLIC_IP\" ] && [ -n \"${TURNSERVER_PRIVATE_IP}\" ]; then\n",
    "    EXTERNAL_IP=\"${TURNSERVER_PRIVATE_IP}\"\n",
    "  else\n",
    "    echo \"TURNSERVER_PRIVATE_IP variable ${TURNSERVER_PRIVATE_IP} is not set\"\n",
    "  fi\n",
    "\n",
    "  sed \\\n",
    "    -e \"s|^#TURNSERVER_ENABLED=1|TURNSERVER_ENABLED=1|g\" \\\n",
    "    -i /etc/default/coturn\n",
    "\n",
    "  sed \\\n",
    "    -e \"/^#\\?listening-port=/d\" \\\n",
    "    -e \"/^#\\?listening-ip=/d\" \\\n",
    "    -e \"/^#\\?external-ip=/d\" \\\n",
    "    -e \"/^#\\?relay-ip=/d\" \\\n",
    "    -e \"/^#\\?min-port=/d\" \\\n",
    "    -e \"/^#\\?max-port=/d\" \\\n",
    "    -e \"/^#\\?fingerprint/d\" \\\n",
    "    -e \"/^#\\?realm=/d\" \\\n",
    "    -e \"/^#\\?user=/d\" \\\n",
    "    -e \"/^#\\?log-file=/d\" /etc/turnserver.conf \\\n",
    "    -i /etc/turnserver.conf\n",
    "\n",
    "  cat <<EOT >> /etc/turnserver.conf\n",
    "listening-port=3478\n",
    "listening-ip=${TURNSERVER_PRIVATE_IP}\n",
    "external-ip=${EXTERNAL_IP}\n",
    "relay-ip=${TURNSERVER_PRIVATE_IP}\n",
    "min-port=49152\n",
    "max-port=65535\n",
    "fingerprint\n",
    "realm=${TURNSERVER_REALM}\n",
    "user=${TURNSERVER_USERNAME}:${TURNSERVER_PASSWORD}\n",
    "log-file=/var/tmp/turn.log\n",
    "EOT\n",
    "\n",
    "  systemctl restart coturn\n",
    "\n",
    "  echo \"Setup coturn server -- End\"\n",
    "\n",
    "else\n",
    "  systemctl stop coturn\n",
    "  DEBIAN_FRONTEND=noninteractive\n",
    "  apt-get purge coturn -y\n",
    "  rm -rf /etc/turnserver.conf\n",
    "fi\n",
    "EOF"
   ]
  },
  {
   "cell_type": "markdown",
   "id": "9b3f8b84-3992-4923-873e-f8b8e078c4f8",
   "metadata": {},
   "source": [
    "#### COTURN Script Configuration\n",
    "\n",
    "Now that we've setup the script, it's time to configure the relevant environment variables. We start by providing the TURN servers realm name, username and password. A realm in COTURN is a logical domain that groups users and credentials, isolating them from other realms and enabling secure, multi-tenant user management on a TURN server. We can configure these values to be whatever we want.\n",
    "\n",
    "It's also important to carefully check if your Application instance’s IP is behind NAT or not. If your instance is NOT behind a NAT, \n",
    "we only set `TURNSERVER_PRIVATE_IP` to the IP address used to login. Otherwise, if the instance is behind a NAT, we set the internal IP as `TURNSERVER_PRIVATE_IP` and set the external (public) IP as `TURNSERVER_PUBLIC_IP`. In other words:\n",
    "\n",
    "Not Behind NAT:\n",
    "```\n",
    "export TURNSERVER_PRIVATE_IP=<IPV4 ADDRESS>      # IP Address of the application instance used to login\n",
    "```\n",
    "Behind NAT:\n",
    "```\n",
    "export TURNSERVER_PRIVATE_IP=<IPV4 ADDRESS>      # IP Address of the application instance after login\n",
    "export TURNSERVER_PUBLIC_IP=<IPV4 ADDRESS>      # IP Address of the application instance used to login\n",
    "```"
   ]
  },
  {
   "cell_type": "markdown",
   "id": "7ff2621d-3875-4aea-9f25-265276472406",
   "metadata": {},
   "source": [
    "#### Verifying If Instances Are Behind A NAT\n",
    "\n",
    "To check if your Linux VM is behind a NAT, you can compare private and public IP Addresses. If your VM's local IP is in a private range (such as 10.x.x.x, 192.168.x.x, or 172.16.x.x–172.31.x.x) and the public IP is different, your VM is behind a NAT:"
   ]
  },
  {
   "cell_type": "code",
   "execution_count": 2,
   "id": "ade144ff-0e53-4939-95ff-64087c64ca32",
   "metadata": {},
   "outputs": [
    {
     "name": "stdout",
     "output_type": "stream",
     "text": [
      "Private IP Addresses: 172.31.9.54 172.17.0.1 192.168.35.0 \n"
     ]
    },
    {
     "name": "stderr",
     "output_type": "stream",
     "text": [
      "  % Total    % Received % Xferd  Average Speed   Time    Time     Time  Current\n",
      "                                 Dload  Upload   Total   Spent    Left  Speed\n",
      "100    14  100    14    0     0    409      0 --:--:-- --:--:-- --:--:--   411\n"
     ]
    },
    {
     "name": "stdout",
     "output_type": "stream",
     "text": [
      "Public IP Address: 35.175.131.103\n"
     ]
    }
   ],
   "source": [
    "%%bash\n",
    "# command to print out private IP addresses\n",
    "echo \"Private IP Addresses: $(hostname -I)\"\n",
    "\n",
    "# command to print out public IP address\n",
    "echo \"Public IP Address: $(curl ifconfig.me)\""
   ]
  },
  {
   "cell_type": "markdown",
   "id": "667ae058-e1aa-47f4-97c9-1bae487c467f",
   "metadata": {},
   "source": [
    "#### Configure Script Env's\n",
    "\n",
    "From the output above, we've verified our machine is behind a NAT, so we configure the `TURNSERVER_PRIVATE_IP` and `TURNSERVER_PUBLIC_IP` variables:"
   ]
  },
  {
   "cell_type": "code",
   "execution_count": 8,
   "id": "d9a078a8-aa2d-417f-ba50-b3ad95390d37",
   "metadata": {},
   "outputs": [],
   "source": [
    "os.environ[\"TURNSERVER_REALM\"] = \"mydummy.org\"  # Realm name\n",
    "os.environ[\"TURNSERVER_USERNAME\"] = \"foo\"  # Username\n",
    "os.environ[\"TURNSERVER_PASSWORD\"] = \"bar\"  # Password\n",
    "os.environ[\"TURNSERVER_PRIVATE_IP\"] = \"172.31.9.54\" # use any of the private IP addresses returned\n",
    "os.environ[\"TURNSERVER_PUBLIC_IP\"] = \"35.175.131.103\" # use the public IP address returned"
   ]
  },
  {
   "cell_type": "markdown",
   "id": "947cb47d-155f-482f-b2b8-2426d5eb46ff",
   "metadata": {},
   "source": [
    "#### Install COTURN\n",
    "\n",
    "Once we've configured the appropriate environment variables, we can run the following code block to execute the script and bring up the COTURN server"
   ]
  },
  {
   "cell_type": "code",
   "execution_count": null,
   "id": "c4867551-5bcd-4fe1-bae9-8fe05140a315",
   "metadata": {},
   "outputs": [],
   "source": [
    "%%bash\n",
    "chmod u+x ../scripts/setup-coturn.sh\n",
    "sudo -E ../scripts/setup-coturn.sh install"
   ]
  },
  {
   "cell_type": "markdown",
   "id": "f372bb97-3763-4b28-81a6-7f4ea2b6378e",
   "metadata": {},
   "source": [
    "#### Verify COTURN Server Is Running\n",
    "\n",
    "We can use the command below to verify the COTURN Service is up and running - if we see the `Active: active (running)` status, the service is running as expected."
   ]
  },
  {
   "cell_type": "code",
   "execution_count": 5,
   "id": "45474fd9-0a7b-4fa5-99e7-963e88e15aa3",
   "metadata": {},
   "outputs": [
    {
     "name": "stdout",
     "output_type": "stream",
     "text": [
      "● coturn.service - coTURN STUN/TURN Server\n",
      "     Loaded: loaded (/lib/systemd/system/coturn.service; enabled; vendor preset: enabled)\n",
      "     Active: active (running) since Tue 2025-05-06 17:53:50 UTC; 53min ago\n",
      "       Docs: man:coturn(1)\n",
      "             man:turnadmin(1)\n",
      "             man:turnserver(1)\n",
      "   Main PID: 791669 (turnserver)\n",
      "      Tasks: 75 (limit: 457992)\n",
      "     Memory: 18.3M\n",
      "        CPU: 3.533s\n",
      "     CGroup: /system.slice/coturn.service\n",
      "             └─791669 /usr/bin/turnserver -c /etc/turnserver.conf --pidfile=\n",
      "\n",
      "May 06 17:53:50 ip-172-31-9-54 turnserver[791669]: 0: : IO method (auth thread): epoll (with changelist)\n",
      "May 06 17:53:50 ip-172-31-9-54 turnserver[791669]: 0: : IO method (auth thread): epoll (with changelist)\n",
      "May 06 17:53:50 ip-172-31-9-54 turnserver[791669]: 0: : IO method (auth thread): epoll (with changelist)\n",
      "May 06 17:53:50 ip-172-31-9-54 turnserver[791669]: 0: : IO method (auth thread): epoll (with changelist)\n",
      "May 06 17:53:50 ip-172-31-9-54 turnserver[791669]: 0: : IO method (auth thread): epoll (with changelist)\n",
      "May 06 17:53:50 ip-172-31-9-54 turnserver[791669]: 0: : IO method (auth thread): epoll (with changelist)\n",
      "May 06 17:53:50 ip-172-31-9-54 turnserver[791669]: 0: : IO method (auth thread): epoll (with changelist)\n",
      "May 06 17:53:50 ip-172-31-9-54 turnserver[791669]: 0: : IO method (auth thread): epoll (with changelist)\n",
      "May 06 17:53:50 ip-172-31-9-54 turnserver[791669]: 0: : IO method (admin thread): epoll (with changelist)\n",
      "May 06 17:53:50 ip-172-31-9-54 systemd[1]: Started coTURN STUN/TURN Server.\n"
     ]
    }
   ],
   "source": [
    "%%bash\n",
    "sudo systemctl status coturn.service"
   ]
  },
  {
   "cell_type": "markdown",
   "id": "acef51a3-6faa-4c3c-9336-28d1365a965e",
   "metadata": {},
   "source": [
    "#### Verify TURN Server IP\n",
    "\n",
    "The command below is also useful for verifying the IP address our TURN Server is listening on. In this example, the output is returned, which means the public IP `35.175.131.103` is mapping to our machines internal IP address on `172.31.9.54`:\n",
    "```\n",
    "external-ip=35.175.131.103/172.31.9.54\n",
    "```\n",
    "\n",
    "This will be useful later when configuring our Tokkio chart!"
   ]
  },
  {
   "cell_type": "code",
   "execution_count": 6,
   "id": "e8833ece-d46b-48b4-b271-78b89476dcd7",
   "metadata": {},
   "outputs": [
    {
     "name": "stdout",
     "output_type": "stream",
     "text": [
      "# The \"external-ip\" value, if not empty, is returned in XOR-RELAYED-ADDRESS field.\n",
      "listening-ip=172.31.9.54\n",
      "external-ip=35.175.131.103/172.31.9.54\n"
     ]
    }
   ],
   "source": [
    "%%bash\n",
    "sudo grep -E 'external-ip|listening-ip' /etc/turnserver.conf"
   ]
  },
  {
   "cell_type": "markdown",
   "id": "3cd4292a-ae45-4528-b534-c4eaf8586c38",
   "metadata": {},
   "source": [
    "#### Testing TURN Server Connection\n",
    "\n",
    "Using Command-Line Tools like `turnutils`, we can verify the connection to our TURN server that was set up. CoTURN includes utilities for testing. The most useful is `turnutils_uclient`, which simulates a TURN client. \n",
    "\n",
    "We'll use the same username and password that was used to configure the TURN server. Additionally, since this machine that is being used is currently behind a NAT, we'll leverage our machines private IP address to test the connection. Outside of this machine, the public IP address will need to be leveraged to facilitate communication with the TURN server."
   ]
  },
  {
   "cell_type": "code",
   "execution_count": 11,
   "id": "9c202b1b-7f83-4637-b47d-0bbb7c9c5ebf",
   "metadata": {
    "scrolled": true
   },
   "outputs": [
    {
     "name": "stdout",
     "output_type": "stream",
     "text": [
      "0: : IPv4. Connected from: 172.31.9.54:57773\n",
      "0: : IPv4. Connected from: 172.31.9.54:57773\n",
      "0: : IPv4. Connected to: 172.31.9.54:3478\n",
      "0: : IPv4. Connected to: 172.31.9.54:3478\n",
      "0: : allocate sent\n",
      "0: : allocate sent\n",
      "0: : allocate response received: \n",
      "0: : allocate response received: \n",
      "0: : allocate sent\n",
      "0: : allocate sent\n",
      "0: : allocate response received: \n",
      "0: : allocate response received: \n",
      "0: : success\n",
      "0: : success\n",
      "0: : IPv4. Received relay addr: 35.175.131.103:51912\n",
      "0: : IPv4. Received relay addr: 35.175.131.103:51912\n",
      "0: : clnet_allocate: rtv=13898181692145200660\n",
      "0: : clnet_allocate: rtv=13898181692145200660\n",
      "0: : refresh sent\n",
      "0: : refresh sent\n",
      "0: : refresh response received: \n",
      "0: : refresh response received: \n",
      "0: : success\n",
      "0: : success\n",
      "0: : IPv4. Connected from: 172.31.9.54:60318\n",
      "0: : IPv4. Connected from: 172.31.9.54:60318\n",
      "0: : IPv4. Connected to: 172.31.9.54:3478\n",
      "0: : IPv4. Connected to: 172.31.9.54:3478\n",
      "0: : IPv4. Connected from: 172.31.9.54:59793\n",
      "0: : IPv4. Connected from: 172.31.9.54:59793\n",
      "0: : IPv4. Connected to: 172.31.9.54:3478\n",
      "0: : IPv4. Connected to: 172.31.9.54:3478\n",
      "0: : allocate sent\n",
      "0: : allocate sent\n",
      "0: : allocate response received: \n",
      "0: : allocate response received: \n",
      "0: : allocate sent\n",
      "0: : allocate sent\n",
      "0: : allocate response received: \n",
      "0: : allocate response received: \n",
      "0: : success\n",
      "0: : success\n",
      "0: : IPv4. Received relay addr: 35.175.131.103:51913\n",
      "0: : IPv4. Received relay addr: 35.175.131.103:51913\n",
      "0: : clnet_allocate: rtv=0\n",
      "0: : clnet_allocate: rtv=0\n",
      "0: : refresh sent\n",
      "0: : refresh sent\n",
      "0: : refresh response received: \n",
      "0: : refresh response received: \n",
      "0: : success\n",
      "0: : success\n",
      "0: : allocate sent\n",
      "0: : allocate sent\n",
      "0: : allocate response received: \n",
      "0: : allocate response received: \n",
      "0: : allocate sent\n",
      "0: : allocate sent\n",
      "0: : allocate response received: \n",
      "0: : allocate response received: \n",
      "0: : success\n",
      "0: : success\n",
      "0: : IPv4. Received relay addr: 35.175.131.103:60948\n",
      "0: : IPv4. Received relay addr: 35.175.131.103:60948\n",
      "0: : clnet_allocate: rtv=3586535105069767274\n",
      "0: : clnet_allocate: rtv=3586535105069767274\n",
      "0: : refresh sent\n",
      "0: : refresh sent\n",
      "0: : refresh response received: \n",
      "0: : refresh response received: \n",
      "0: : success\n",
      "0: : success\n",
      "0: : channel bind sent\n",
      "0: : channel bind sent\n",
      "0: : cb response received: \n",
      "0: : cb response received: \n",
      "0: : channel bind: error 403 (Forbidden IP)\n",
      "0: : channel bind: error 403 (Forbidden IP)\n"
     ]
    },
    {
     "ename": "CalledProcessError",
     "evalue": "Command 'b'turnutils_uclient -v -u $TURNSERVER_USERNAME -w $TURNSERVER_PASSWORD $TURNSERVER_PRIVATE_IP\\n'' returned non-zero exit status 255.",
     "output_type": "error",
     "traceback": [
      "\u001b[0;31m---------------------------------------------------------------------------\u001b[0m",
      "\u001b[0;31mCalledProcessError\u001b[0m                        Traceback (most recent call last)",
      "Cell \u001b[0;32mIn[11], line 1\u001b[0m\n\u001b[0;32m----> 1\u001b[0m \u001b[43mget_ipython\u001b[49m\u001b[43m(\u001b[49m\u001b[43m)\u001b[49m\u001b[38;5;241;43m.\u001b[39;49m\u001b[43mrun_cell_magic\u001b[49m\u001b[43m(\u001b[49m\u001b[38;5;124;43m'\u001b[39;49m\u001b[38;5;124;43mbash\u001b[39;49m\u001b[38;5;124;43m'\u001b[39;49m\u001b[43m,\u001b[49m\u001b[43m \u001b[49m\u001b[38;5;124;43m'\u001b[39;49m\u001b[38;5;124;43m'\u001b[39;49m\u001b[43m,\u001b[49m\u001b[43m \u001b[49m\u001b[38;5;124;43m'\u001b[39;49m\u001b[38;5;124;43mturnutils_uclient -v -u $TURNSERVER_USERNAME -w $TURNSERVER_PASSWORD $TURNSERVER_PRIVATE_IP\u001b[39;49m\u001b[38;5;130;43;01m\\n\u001b[39;49;00m\u001b[38;5;124;43m'\u001b[39;49m\u001b[43m)\u001b[49m\n",
      "File \u001b[0;32m/usr/local/lib/python3.10/dist-packages/IPython/core/interactiveshell.py:2543\u001b[0m, in \u001b[0;36mInteractiveShell.run_cell_magic\u001b[0;34m(self, magic_name, line, cell)\u001b[0m\n\u001b[1;32m   2541\u001b[0m \u001b[38;5;28;01mwith\u001b[39;00m \u001b[38;5;28mself\u001b[39m\u001b[38;5;241m.\u001b[39mbuiltin_trap:\n\u001b[1;32m   2542\u001b[0m     args \u001b[38;5;241m=\u001b[39m (magic_arg_s, cell)\n\u001b[0;32m-> 2543\u001b[0m     result \u001b[38;5;241m=\u001b[39m \u001b[43mfn\u001b[49m\u001b[43m(\u001b[49m\u001b[38;5;241;43m*\u001b[39;49m\u001b[43margs\u001b[49m\u001b[43m,\u001b[49m\u001b[43m \u001b[49m\u001b[38;5;241;43m*\u001b[39;49m\u001b[38;5;241;43m*\u001b[39;49m\u001b[43mkwargs\u001b[49m\u001b[43m)\u001b[49m\n\u001b[1;32m   2545\u001b[0m \u001b[38;5;66;03m# The code below prevents the output from being displayed\u001b[39;00m\n\u001b[1;32m   2546\u001b[0m \u001b[38;5;66;03m# when using magics with decorator @output_can_be_silenced\u001b[39;00m\n\u001b[1;32m   2547\u001b[0m \u001b[38;5;66;03m# when the last Python token in the expression is a ';'.\u001b[39;00m\n\u001b[1;32m   2548\u001b[0m \u001b[38;5;28;01mif\u001b[39;00m \u001b[38;5;28mgetattr\u001b[39m(fn, magic\u001b[38;5;241m.\u001b[39mMAGIC_OUTPUT_CAN_BE_SILENCED, \u001b[38;5;28;01mFalse\u001b[39;00m):\n",
      "File \u001b[0;32m/usr/local/lib/python3.10/dist-packages/IPython/core/magics/script.py:159\u001b[0m, in \u001b[0;36mScriptMagics._make_script_magic.<locals>.named_script_magic\u001b[0;34m(line, cell)\u001b[0m\n\u001b[1;32m    157\u001b[0m \u001b[38;5;28;01melse\u001b[39;00m:\n\u001b[1;32m    158\u001b[0m     line \u001b[38;5;241m=\u001b[39m script\n\u001b[0;32m--> 159\u001b[0m \u001b[38;5;28;01mreturn\u001b[39;00m \u001b[38;5;28;43mself\u001b[39;49m\u001b[38;5;241;43m.\u001b[39;49m\u001b[43mshebang\u001b[49m\u001b[43m(\u001b[49m\u001b[43mline\u001b[49m\u001b[43m,\u001b[49m\u001b[43m \u001b[49m\u001b[43mcell\u001b[49m\u001b[43m)\u001b[49m\n",
      "File \u001b[0;32m/usr/local/lib/python3.10/dist-packages/IPython/core/magics/script.py:336\u001b[0m, in \u001b[0;36mScriptMagics.shebang\u001b[0;34m(self, line, cell)\u001b[0m\n\u001b[1;32m    331\u001b[0m \u001b[38;5;28;01mif\u001b[39;00m args\u001b[38;5;241m.\u001b[39mraise_error \u001b[38;5;129;01mand\u001b[39;00m p\u001b[38;5;241m.\u001b[39mreturncode \u001b[38;5;241m!=\u001b[39m \u001b[38;5;241m0\u001b[39m:\n\u001b[1;32m    332\u001b[0m     \u001b[38;5;66;03m# If we get here and p.returncode is still None, we must have\u001b[39;00m\n\u001b[1;32m    333\u001b[0m     \u001b[38;5;66;03m# killed it but not yet seen its return code. We don't wait for it,\u001b[39;00m\n\u001b[1;32m    334\u001b[0m     \u001b[38;5;66;03m# in case it's stuck in uninterruptible sleep. -9 = SIGKILL\u001b[39;00m\n\u001b[1;32m    335\u001b[0m     rc \u001b[38;5;241m=\u001b[39m p\u001b[38;5;241m.\u001b[39mreturncode \u001b[38;5;129;01mor\u001b[39;00m \u001b[38;5;241m-\u001b[39m\u001b[38;5;241m9\u001b[39m\n\u001b[0;32m--> 336\u001b[0m     \u001b[38;5;28;01mraise\u001b[39;00m CalledProcessError(rc, cell)\n",
      "\u001b[0;31mCalledProcessError\u001b[0m: Command 'b'turnutils_uclient -v -u $TURNSERVER_USERNAME -w $TURNSERVER_PASSWORD $TURNSERVER_PRIVATE_IP\\n'' returned non-zero exit status 255."
     ]
    }
   ],
   "source": [
    "%%bash\n",
    "turnutils_uclient -v -u $TURNSERVER_USERNAME -w $TURNSERVER_PASSWORD $TURNSERVER_PRIVATE_IP"
   ]
  },
  {
   "cell_type": "markdown",
   "id": "dc5f417d-6a50-4b29-8432-c892c100750f",
   "metadata": {},
   "source": [
    "#### Next Steps\n",
    "The output above indicates that the CoTURN server is mostly working as expected for basic TURN functionality, but there is one notable exception: a 403 (Forbidden IP) error during a channel bind attempt. To be clear if the output mostly completes above, that means basic TURN functionality is working - this is sufficient for our Tokkio application! \n",
    "\n",
    "Below we explain the output shown above, but if `Allocation` & `Refresh` functionality is working we're good to go with the `tokkio_app_deploy.ipynb` notebook! Please make sure the TURNa server you have installed on your CPU based VM is accessible and reachable from the instance you're deploying your Tokkio application unto - otherwise, you may run into issues connecting with your Avatar.\n",
    "\n",
    "#### Analyzing The Output Above \n",
    "Let's analyze what this means:\n",
    "\n",
    "#### What's Working\n",
    "- Allocation Succeeded: The server responded successfully to your allocation requests:\n",
    "```\n",
    "text\n",
    "0: : allocate sent\n",
    "0: : allocate response received:\n",
    "0: : success\n",
    "0: : IPv4. Received relay addr: 35.175.131.103:58818\n",
    "```\n",
    "This means you received a relay address, which is the core TURN functionality.\n",
    "\n",
    "- Refresh Succeeded: The server also accepted your refresh requests:\n",
    "\n",
    "```\n",
    "text\n",
    "0: : refresh sent\n",
    "0: : refresh response received:\n",
    "0: : success\n",
    "```\n",
    "\n",
    "#### What's Not Working\n",
    "403 Forbidden IP on Channel Bind:\n",
    "\n",
    "```\n",
    "text\n",
    "0: : channel bind sent\n",
    "0: : cb response received:\n",
    "0: : channel bind: error 403 (Forbidden IP)\n",
    "```\n",
    "This error means the server refused the channel bind request, usually because the IP address you're trying to bind is not allowed according to the server's configuration or security restrictions.\n",
    "\n",
    "#### Summary Table\n",
    "\n",
    "| Functionality   | Status | Notes                   |\n",
    "|-----------------|:------:|-------------------------|\n",
    "| Allocation      |   ✅   | Relay address assigned  |\n",
    "| Refresh         |   ✅   | Refresh successful      |\n",
    "| Channel Bind    |   ❌   | 403 Forbidden IP error  |\n",
    "\n",
    "#### What Should You Do Next?\n",
    "- Basic TURN is working: For most WebRTC use cases, allocation and refresh are the critical parts. Channel bind is less commonly used and may not be required for your application. This is sufficient for our Tokkio application.\n",
    "- If you need channel bind functionality, check your CoTURN configuration for any IP restrictions or firewall rules that might be blocking the bind request."
   ]
  }
 ],
 "metadata": {
  "kernelspec": {
   "display_name": "Python 3 (ipykernel)",
   "language": "python",
   "name": "python3"
  },
  "language_info": {
   "codemirror_mode": {
    "name": "ipython",
    "version": 3
   },
   "file_extension": ".py",
   "mimetype": "text/x-python",
   "name": "python",
   "nbconvert_exporter": "python",
   "pygments_lexer": "ipython3",
   "version": "3.10.12"
  }
 },
 "nbformat": 4,
 "nbformat_minor": 5
}
