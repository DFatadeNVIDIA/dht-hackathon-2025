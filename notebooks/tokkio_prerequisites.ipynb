{
 "cells": [
  {
   "cell_type": "markdown",
   "id": "797d2a55-7d31-4f81-a66e-28377ff1fffa",
   "metadata": {},
   "source": [
    "# Tokkio Prerequisites"
   ]
  },
  {
   "cell_type": "markdown",
   "id": "30fcd3e8-3fb5-48b4-ae6b-e41f2d53b07b",
   "metadata": {},
   "source": [
    "## Prerequisites\n",
    "\n",
    "Tokkio consists of a few prerequisites, whether you're pursuing the manual route or automated setup via One Click scripts. Both are great options for getting started with the Tokkio service! In this series of playbooks - we'll pursue the manual deployment path. The prerequisites should be the same for either deployment option, feel free to refer to the [prerequisites section](https://docs.nvidia.com/ace/tokkio/5.0.0-beta/deployment/bare-metal-manual-setup.html#prerequisites) on the Tokkio documentation page! Below the following prerequisites need to be setup:\n",
    "\n",
    "- Ubuntu 22.04 Operating system\n",
    "- Passwordless sudo access\n",
    "- Storage requirements:\n",
    "    - 300GB space on /opt\n",
    "    - 400GB on /var/lib/containerd\n",
    "- Required GPU devices for this reference workflow:\n",
    "    - 2xL40S GPUs\n",
    "    - 2xL4 GPUs\n",
    "    - 2xT4 GPUs\n",
    "\n",
    "Given that this is a Brev launchable, all the prerequisites excluding the passwordless sudo access should be configured, we'll cover the process of getting that setup in the next couple of notebook cells!"
   ]
  },
  {
   "cell_type": "markdown",
   "id": "a17bf362-c33d-4450-bb4a-e27fd3ea8d1d",
   "metadata": {},
   "source": [
    "## Verify GPUs\n",
    "\n",
    "In this example, we have configured 2x L40S GPUs to be used for deployment of Tokkio. Before proceeding with additional steps let's verify access to these GPU resources. Depending on what instance you've spun up, your GPU SKU will look different:\n",
    "\n"
   ]
  },
  {
   "cell_type": "code",
   "execution_count": 1,
   "id": "5a41f5ca-eb7e-4b37-aa43-213b326d2159",
   "metadata": {},
   "outputs": [
    {
     "name": "stdout",
     "output_type": "stream",
     "text": [
      "Tue May  6 15:33:12 2025       \n",
      "+-----------------------------------------------------------------------------------------+\n",
      "| NVIDIA-SMI 570.133.20             Driver Version: 570.133.20     CUDA Version: 12.8     |\n",
      "|-----------------------------------------+------------------------+----------------------+\n",
      "| GPU  Name                 Persistence-M | Bus-Id          Disp.A | Volatile Uncorr. ECC |\n",
      "| Fan  Temp   Perf          Pwr:Usage/Cap |           Memory-Usage | GPU-Util  Compute M. |\n",
      "|                                         |                        |               MIG M. |\n",
      "|=========================================+========================+======================|\n",
      "|   0  NVIDIA L40S                    On  |   00000000:38:00.0 Off |                    0 |\n",
      "| N/A   30C    P8             43W /  350W |       0MiB /  46068MiB |      0%      Default |\n",
      "|                                         |                        |                  N/A |\n",
      "+-----------------------------------------+------------------------+----------------------+\n",
      "|   1  NVIDIA L40S                    On  |   00000000:3A:00.0 Off |                    0 |\n",
      "| N/A   30C    P8             21W /  350W |       0MiB /  46068MiB |      0%      Default |\n",
      "|                                         |                        |                  N/A |\n",
      "+-----------------------------------------+------------------------+----------------------+\n",
      "|   2  NVIDIA L40S                    On  |   00000000:3C:00.0 Off |                    0 |\n",
      "| N/A   31C    P0             61W /  350W |       0MiB /  46068MiB |      0%      Default |\n",
      "|                                         |                        |                  N/A |\n",
      "+-----------------------------------------+------------------------+----------------------+\n",
      "|   3  NVIDIA L40S                    On  |   00000000:3E:00.0 Off |                    0 |\n",
      "| N/A   30C    P0             61W /  350W |       0MiB /  46068MiB |      0%      Default |\n",
      "|                                         |                        |                  N/A |\n",
      "+-----------------------------------------+------------------------+----------------------+\n",
      "                                                                                         \n",
      "+-----------------------------------------------------------------------------------------+\n",
      "| Processes:                                                                              |\n",
      "|  GPU   GI   CI              PID   Type   Process name                        GPU Memory |\n",
      "|        ID   ID                                                               Usage      |\n",
      "|=========================================================================================|\n",
      "|  No running processes found                                                             |\n",
      "+-----------------------------------------------------------------------------------------+\n"
     ]
    }
   ],
   "source": [
    "%%bash\n",
    "nvidia-smi"
   ]
  },
  {
   "cell_type": "markdown",
   "id": "ba1c5945-4dcb-4313-b744-bc508092fe06",
   "metadata": {},
   "source": [
    "Awesome! Once we've verified access to GPU resources we'll proceed to configuring passwordless sudo."
   ]
  },
  {
   "cell_type": "markdown",
   "id": "151513a1-c24f-4f6a-ac61-416ee9d26cb8",
   "metadata": {},
   "source": [
    "## Configuring Password Less Sudo Access\n",
    "\n",
    "Password-less sudo access is needed in able to run the Tokkio one click scripts or facilitate manual deployments of Tokkio charts and resources. To allow a user to run sudo commands without entering a password, we start by opening the sudoers file. In a seperate terminal run the following command:\n",
    "\n",
    "```\n",
    "sudo visudo\n",
    "```\n",
    "\n",
    "Once the file has been opened, add the following line at the bottom of the file, replacing `username` with the actual username:\n",
    "\n",
    "```\n",
    "username ALL=(ALL) NOPASSWD:ALL\n",
    "```\n",
    "\n",
    "The command in the notebook cell below can be ran to retrieve the username on the instance you're configuring this set up on. In this example, the username returned is `ubuntu` so our entry in the sudoers file looks like the following:\n",
    "\n",
    "```\n",
    "ubuntu ALL=(ALL) NOPASSWD:ALL\n",
    "```"
   ]
  },
  {
   "cell_type": "code",
   "execution_count": 2,
   "id": "00ea42e4-8c46-4da7-b428-88c38c5c2491",
   "metadata": {},
   "outputs": [
    {
     "name": "stdout",
     "output_type": "stream",
     "text": [
      "ubuntu\n"
     ]
    }
   ],
   "source": [
    "%%bash\n",
    "whoami"
   ]
  },
  {
   "cell_type": "markdown",
   "id": "e712fc65-2c7b-497f-8419-b4936c6fd1f9",
   "metadata": {},
   "source": [
    "### Verifying Password Less Sudo Access\n",
    "\n",
    "You can verify that passwordless sudo is working correctly by running a sudo command with the -n (non-interactive) option, which attempts to execute the command without prompting for a password. If the command completes successfully, passwordless sudo is enabled.\n",
    "\n",
    "We can verify this using `sudo -n true`. If the command returns with no error (exit code 0), passwordless sudo is working. If it fails (non-zero exit code), passwordless sudo is not enabled or configured incorrectly. We can verify access by running the command below:"
   ]
  },
  {
   "cell_type": "code",
   "execution_count": 3,
   "id": "febe0cb2-e843-4581-9564-efb70f5ccda8",
   "metadata": {},
   "outputs": [],
   "source": [
    "%%bash\n",
    "sudo -n true"
   ]
  },
  {
   "cell_type": "markdown",
   "id": "3451aceb-cf52-4b7f-b3a6-7c86e493f34c",
   "metadata": {},
   "source": [
    "The cell executes successfully without any error codes - passwordless sudo access has been configured! Once we've verified the prerequisites, we can get started with deploying a TURN Server. This will be required in order to interact with the avatar via browser. The `deploy_turn_server.ipynb` notebook will cover this process. If you already have a TURN Server deployed, you can get started with deploying the Tokkio app using the `tokkio_app_deploy.ipynb` file!"
   ]
  }
 ],
 "metadata": {
  "kernelspec": {
   "display_name": "Python 3 (ipykernel)",
   "language": "python",
   "name": "python3"
  },
  "language_info": {
   "codemirror_mode": {
    "name": "ipython",
    "version": 3
   },
   "file_extension": ".py",
   "mimetype": "text/x-python",
   "name": "python",
   "nbconvert_exporter": "python",
   "pygments_lexer": "ipython3",
   "version": "3.10.12"
  }
 },
 "nbformat": 4,
 "nbformat_minor": 5
}
